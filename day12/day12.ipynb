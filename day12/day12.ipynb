{
 "cells": [
  {
   "cell_type": "code",
   "execution_count": 9,
   "id": "6c31cb85-f5e7-46b3-99bc-2150d931517c",
   "metadata": {
    "tags": []
   },
   "outputs": [
    {
     "name": "stdout",
     "output_type": "stream",
     "text": [
      "7118\n"
     ]
    }
   ],
   "source": [
    "\"\"\"\n",
    "--- Day 12: Hot Springs ---\n",
    "\n",
    "You finally reach the hot springs! You can see steam rising from secluded areas attached to the primary, ornate \n",
    "building.\n",
    "\n",
    "As you turn to enter, the researcher stops you. \"Wait - I thought you were looking for the hot springs, weren't \n",
    "you?\" You indicate that this definitely looks like hot springs to you.\n",
    "\n",
    "\"Oh, sorry, common mistake! This is actually the onsen! The hot springs are next door.\"\n",
    "\n",
    "You look in the direction the researcher is pointing and suddenly notice the massive metal helixes towering \n",
    "overhead. \"This way!\"\n",
    "\n",
    "It only takes you a few more steps to reach the main gate of the massive fenced-off area containing the springs. \n",
    "You go through the gate and into a small administrative building.\n",
    "\n",
    "\"Hello! What brings you to the hot springs today? Sorry they're not very hot right now; we're having a lava \n",
    "shortage at the moment.\" You ask about the missing machine parts for Desert Island.\n",
    "\n",
    "\"Oh, all of Gear Island is currently offline! Nothing is being manufactured at the moment, not until we get more \n",
    "lava to heat our forges. And our springs. The springs aren't very springy unless they're hot!\"\n",
    "\n",
    "\"Say, could you go up and see why the lava stopped flowing? The springs are too cold for normal operation, but we \n",
    "should be able to find one springy enough to launch you up there!\"\n",
    "\n",
    "There's just one problem - many of the springs have fallen into disrepair, so they're not actually sure which \n",
    "springs would even be safe to use! Worse yet, their condition records of which springs are damaged (your puzzle \n",
    "input) are also damaged! You'll need to help them repair the damaged records.\n",
    "\n",
    "In the giant field just outside, the springs are arranged into rows. For each row, the condition records show \n",
    "every spring and whether it is operational (.) or damaged (#). This is the part of the condition records that is \n",
    "itself damaged; for some springs, it is simply unknown (?) whether the spring is operational or damaged.\n",
    "\n",
    "However, the engineer that produced the condition records also duplicated some of this information in a different\n",
    "format! After the list of springs for a given row, the size of each contiguous group of damaged springs is \n",
    "listed in the order those groups appear in the row. This list always accounts for every damaged spring, and each \n",
    "number is the entire size of its contiguous group (that is, groups are always separated by at least one \n",
    "operational spring: #### would always be 4, never 2,2).\n",
    "\n",
    "So, condition records with no unknown spring conditions might look like this:\n",
    "    #.#.### 1,1,3\n",
    "    .#...#....###. 1,1,3\n",
    "    .#.###.#.###### 1,3,1,6\n",
    "    ####.#...#... 4,1,1\n",
    "    #....######..#####. 1,6,5\n",
    "    .###.##....# 3,2,1\n",
    "However, the condition records are partially damaged; some of the springs' conditions are actually unknown (?). \n",
    "For example:\n",
    "    ???.### 1,1,3\n",
    "    .??..??...?##. 1,1,3\n",
    "    ?#?#?#?#?#?#?#? 1,3,1,6\n",
    "    ????.#...#... 4,1,1\n",
    "    ????.######..#####. 1,6,5\n",
    "    ?###???????? 3,2,1\n",
    "Equipped with this information, it is your job to figure out how many different arrangements of operational and \n",
    "broken springs fit the given criteria in each row.\n",
    "\n",
    "In the first line (???.### 1,1,3), there is exactly one way separate groups of one, one, and three broken springs\n",
    "(in that order) can appear in that row: the first three unknown springs must be broken, then operational, then \n",
    "broken (#.#), making the whole row #.#.###.\n",
    "\n",
    "The second line is more interesting: .??..??...?##. 1,1,3 could be a total of four different arrangements. The \n",
    "last ? must always be broken (to satisfy the final contiguous group of three broken springs), and each ?? must \n",
    "hide exactly one of the two broken springs. (Neither ?? could be both broken springs or they would form a single \n",
    "contiguous group of two; if that were true, the numbers afterward would have been 2,3 instead.) Since each ?? can\n",
    "either be #. or .#, there are four possible arrangements of springs.\n",
    "\n",
    "The last line is actually consistent with ten different arrangements! Because the first number is 3, the first \n",
    "and second ? must both be . (if either were #, the first number would have to be 4 or higher). However, the \n",
    "remaining run of unknown spring conditions have many different ways they could hold groups of two and one broken \n",
    "springs:\n",
    "    ?###???????? 3,2,1\n",
    "    .###.##.#...\n",
    "    .###.##..#..\n",
    "    .###.##...#.\n",
    "    .###.##....#\n",
    "    .###..##.#..\n",
    "    .###..##..#.\n",
    "    .###..##...#\n",
    "    .###...##.#.\n",
    "    .###...##..#\n",
    "    .###....##.#\n",
    "In this example, the number of possible arrangements for each row is:\n",
    " - ???.### 1,1,3 - 1 arrangement\n",
    " - .??..??...?##. 1,1,3 - 4 arrangements\n",
    " - ?#?#?#?#?#?#?#? 1,3,1,6 - 1 arrangement\n",
    " - ????.#...#... 4,1,1 - 1 arrangement\n",
    " - ????.######..#####. 1,6,5 - 4 arrangements\n",
    " - ?###???????? 3,2,1 - 10 arrangements\n",
    "Adding all of the possible arrangement counts together produces a total of 21 arrangements.\n",
    "\n",
    "For each row, count all of the different arrangements of operational and broken springs that meet the given \n",
    "criteria. What is the sum of those counts?\n",
    "\n",
    "\"\"\"\n",
    "    \n",
    "import re\n",
    "\n",
    "from itertools import product\n",
    "\n",
    "def get_pattern(n: str) -> str:\n",
    "    return r\"^\\.*#{\" + r\"}\\.+#{\".join(n.split(\",\")) + r\"}\\.*$\"\n",
    "\n",
    "def get_matches(p: str, s: str) -> int:\n",
    "    template = s.replace(\"?\", \"{}\")\n",
    "    combinations = product(\".#\", repeat=s.count(\"?\"))\n",
    "    return sum(1 for combo in combinations if re.match(p, template.format(*combo)))\n",
    "\n",
    "with open(\"input.txt\") as f:\n",
    "    total = 0\n",
    "    for line in map(str.strip, f.readlines()):\n",
    "        s, num = line.split()\n",
    "        total += get_matches(get_pattern(num), s)\n",
    "\n",
    "print(total)\n",
    "    \n",
    "# sum is 7118"
   ]
  },
  {
   "cell_type": "code",
   "execution_count": 20,
   "id": "0ca76880-e34d-4776-b1ad-d46ccc48b5ca",
   "metadata": {},
   "outputs": [
    {
     "name": "stdout",
     "output_type": "stream",
     "text": [
      "1\n",
      "256\n"
     ]
    },
    {
     "ename": "KeyboardInterrupt",
     "evalue": "",
     "output_type": "error",
     "traceback": [
      "\u001b[0;31m---------------------------------------------------------------------------\u001b[0m",
      "\u001b[0;31mKeyboardInterrupt\u001b[0m                         Traceback (most recent call last)",
      "Cell \u001b[0;32mIn[20], line 30\u001b[0m\n\u001b[1;32m     28\u001b[0m s \u001b[38;5;241m=\u001b[39m \u001b[38;5;124m\"\u001b[39m\u001b[38;5;124m?\u001b[39m\u001b[38;5;124m\"\u001b[39m\u001b[38;5;241m.\u001b[39mjoin([s]\u001b[38;5;241m*\u001b[39mmulti)\n\u001b[1;32m     29\u001b[0m num \u001b[38;5;241m=\u001b[39m \u001b[38;5;124m\"\u001b[39m\u001b[38;5;124m,\u001b[39m\u001b[38;5;124m\"\u001b[39m\u001b[38;5;241m.\u001b[39mjoin([num]\u001b[38;5;241m*\u001b[39mmulti)\n\u001b[0;32m---> 30\u001b[0m x \u001b[38;5;241m=\u001b[39m \u001b[43mget_matches\u001b[49m\u001b[43m(\u001b[49m\u001b[43mget_pattern\u001b[49m\u001b[43m(\u001b[49m\u001b[43mnum\u001b[49m\u001b[43m)\u001b[49m\u001b[43m,\u001b[49m\u001b[43m \u001b[49m\u001b[43ms\u001b[49m\u001b[43m)\u001b[49m\n\u001b[1;32m     31\u001b[0m \u001b[38;5;28mprint\u001b[39m(x)\n\u001b[1;32m     32\u001b[0m total \u001b[38;5;241m+\u001b[39m\u001b[38;5;241m=\u001b[39m x\n",
      "Cell \u001b[0;32mIn[20], line 19\u001b[0m, in \u001b[0;36mget_matches\u001b[0;34m(p, s)\u001b[0m\n\u001b[1;32m     17\u001b[0m template \u001b[38;5;241m=\u001b[39m s\u001b[38;5;241m.\u001b[39mreplace(\u001b[38;5;124m\"\u001b[39m\u001b[38;5;124m?\u001b[39m\u001b[38;5;124m\"\u001b[39m, \u001b[38;5;124m\"\u001b[39m\u001b[38;5;132;01m{}\u001b[39;00m\u001b[38;5;124m\"\u001b[39m)\n\u001b[1;32m     18\u001b[0m combinations \u001b[38;5;241m=\u001b[39m product(\u001b[38;5;124m\"\u001b[39m\u001b[38;5;124m.#\u001b[39m\u001b[38;5;124m\"\u001b[39m, repeat\u001b[38;5;241m=\u001b[39ms\u001b[38;5;241m.\u001b[39mcount(\u001b[38;5;124m\"\u001b[39m\u001b[38;5;124m?\u001b[39m\u001b[38;5;124m\"\u001b[39m))\n\u001b[0;32m---> 19\u001b[0m \u001b[38;5;28;01mreturn\u001b[39;00m \u001b[38;5;28;43msum\u001b[39;49m\u001b[43m(\u001b[49m\u001b[38;5;241;43m1\u001b[39;49m\u001b[43m \u001b[49m\u001b[38;5;28;43;01mfor\u001b[39;49;00m\u001b[43m \u001b[49m\u001b[43mcombo\u001b[49m\u001b[43m \u001b[49m\u001b[38;5;129;43;01min\u001b[39;49;00m\u001b[43m \u001b[49m\u001b[43mcombinations\u001b[49m\u001b[43m \u001b[49m\u001b[38;5;28;43;01mif\u001b[39;49;00m\u001b[43m \u001b[49m\u001b[43mis_match\u001b[49m\u001b[43m(\u001b[49m\u001b[43mp\u001b[49m\u001b[43m,\u001b[49m\u001b[43m \u001b[49m\u001b[43mtemplate\u001b[49m\u001b[38;5;241;43m.\u001b[39;49m\u001b[43mformat\u001b[49m\u001b[43m(\u001b[49m\u001b[38;5;241;43m*\u001b[39;49m\u001b[43mcombo\u001b[49m\u001b[43m)\u001b[49m\u001b[43m)\u001b[49m\u001b[43m)\u001b[49m\n",
      "Cell \u001b[0;32mIn[20], line 19\u001b[0m, in \u001b[0;36m<genexpr>\u001b[0;34m(.0)\u001b[0m\n\u001b[1;32m     17\u001b[0m template \u001b[38;5;241m=\u001b[39m s\u001b[38;5;241m.\u001b[39mreplace(\u001b[38;5;124m\"\u001b[39m\u001b[38;5;124m?\u001b[39m\u001b[38;5;124m\"\u001b[39m, \u001b[38;5;124m\"\u001b[39m\u001b[38;5;132;01m{}\u001b[39;00m\u001b[38;5;124m\"\u001b[39m)\n\u001b[1;32m     18\u001b[0m combinations \u001b[38;5;241m=\u001b[39m product(\u001b[38;5;124m\"\u001b[39m\u001b[38;5;124m.#\u001b[39m\u001b[38;5;124m\"\u001b[39m, repeat\u001b[38;5;241m=\u001b[39ms\u001b[38;5;241m.\u001b[39mcount(\u001b[38;5;124m\"\u001b[39m\u001b[38;5;124m?\u001b[39m\u001b[38;5;124m\"\u001b[39m))\n\u001b[0;32m---> 19\u001b[0m \u001b[38;5;28;01mreturn\u001b[39;00m \u001b[38;5;28msum\u001b[39m(\u001b[38;5;241m1\u001b[39m \u001b[38;5;28;01mfor\u001b[39;00m combo \u001b[38;5;129;01min\u001b[39;00m combinations \u001b[38;5;28;01mif\u001b[39;00m is_match(p, \u001b[43mtemplate\u001b[49m\u001b[38;5;241;43m.\u001b[39;49m\u001b[43mformat\u001b[49m\u001b[43m(\u001b[49m\u001b[38;5;241;43m*\u001b[39;49m\u001b[43mcombo\u001b[49m\u001b[43m)\u001b[49m))\n",
      "\u001b[0;31mKeyboardInterrupt\u001b[0m: "
     ]
    }
   ],
   "source": [
    "\n",
    "import re\n",
    "\n",
    "from itertools import product\n",
    "from functools import cache\n",
    "from time import perf_counter\n",
    "\n",
    "def get_pattern(n: str) -> str:\n",
    "    #print(n)\n",
    "    return r\"^\\.*#{\" + r\"}\\.+#{\".join(n.split(\",\")) + r\"}\\.*$\"\n",
    "\n",
    "\n",
    "def is_match(p, s):\n",
    "    return re.match(p, s)\n",
    "\n",
    "\n",
    "def get_matches(p: str, s: str) -> int:\n",
    "    template = s.replace(\"?\", \"{}\")\n",
    "    combinations = product(\".#\", repeat=s.count(\"?\"))\n",
    "    return sum(1 for combo in combinations if is_match(p, template.format(*combo)))\n",
    "\n",
    "\n",
    "start = perf_counter()\n",
    "multi = 3\n",
    "with open(\"input.txt\") as f:\n",
    "    total = 0\n",
    "    for line in map(str.strip, f.readlines()):\n",
    "        s, num = line.split()\n",
    "        s = \"?\".join([s]*multi)\n",
    "        num = \",\".join([num]*multi)\n",
    "        x = get_matches(get_pattern(num), s)\n",
    "        print(x)\n",
    "        total += x\n",
    "\n",
    "print(total, perf_counter() - start, \"seconds\")\n",
    "    \n",
    "# total is \n",
    "\n",
    "    "
   ]
  },
  {
   "cell_type": "code",
   "execution_count": 39,
   "id": "1f3e42dd-d486-4987-862f-78467c251064",
   "metadata": {},
   "outputs": [
    {
     "name": "stdout",
     "output_type": "stream",
     "text": [
      "525152\n"
     ]
    }
   ],
   "source": [
    "cache = {}\n",
    "\n",
    "\n",
    "def count_ways(s, nums):\n",
    "    if (s, tuple(nums)) in cache:\n",
    "        return cache[(s, tuple(nums))]\n",
    "\n",
    "    if len(nums) == 0:\n",
    "        return 1 if \"#\" not in s else 0\n",
    "\n",
    "    size = nums[0]\n",
    "    total = 0\n",
    "\n",
    "    for i in range(len(s)):\n",
    "        if (\n",
    "            i + size <= len(s)\n",
    "            and all(c != \".\" for c in s[i : i + size])\n",
    "            and (i == 0 or s[i - 1] != \"#\")\n",
    "            and (i + size == len(s) or s[i + size] != \"#\")\n",
    "        ):\n",
    "            total += count_ways(s[i + size + 1 :], nums[1:])\n",
    "\n",
    "        if s[i] == \"#\":\n",
    "            break\n",
    "\n",
    "    cache[(s, tuple(nums))] = total\n",
    "\n",
    "    return total\n",
    "\n",
    "def get_total(times):\n",
    "    total = 0\n",
    "    with open(\"input.txt\") as f:\n",
    "        lines = map(str.strip, f.readlines()) \n",
    "\n",
    "    for line in lines:\n",
    "        row, nums = line.split()\n",
    "        row = \"?\".join([row] * times)\n",
    "        nums = tuple(int(n) for n in nums.split(\",\")) * times\n",
    "        x = count_ways(row, nums)\n",
    "        total += x\n",
    "\n",
    "    return total\n",
    "\n",
    "print(get_total(5))\n",
    "\n",
    "# sum is 7030194981795"
   ]
  },
  {
   "cell_type": "code",
   "execution_count": 2,
   "id": "c30874b4-96b0-4c38-bf4e-cc3984723f49",
   "metadata": {
    "tags": []
   },
   "outputs": [
    {
     "name": "stdout",
     "output_type": "stream",
     "text": [
      "525152\n"
     ]
    }
   ],
   "source": [
    "import re\n",
    "\n",
    "from functools import cache\n",
    "from typing import Tuple\n",
    "\n",
    "@cache\n",
    "def get_matches(nums: Tuple[int], s: str):\n",
    "    if not nums:\n",
    "        return '#' not in s\n",
    "    elif not s or ('?' not in s and '#' not in s):\n",
    "        return 0\n",
    "    else:\n",
    "        first_candidate = re.match(f\"^\\.*[?#]{{{nums[0]}}}(?!#)\", s)\n",
    "        prefix = re.match(\"^\\.*#+|^\\.*\\?\", s)\n",
    "        if first_candidate is None:\n",
    "            if re.match(\"^\\.*#\", s):\n",
    "                return 0\n",
    "            return get_matches(nums, s[len(prefix[0]):])\n",
    "        \n",
    "        first_candidate = first_candidate[0]\n",
    "        \n",
    "        # use first candidate\n",
    "        res = get_matches(nums[1:], s[len(first_candidate)+1:])\n",
    "        \n",
    "        # dont use first candidate\n",
    "        res2 = 0\n",
    "        if not re.match(\"^\\.*#\", s):\n",
    "            res2 = get_matches(nums, s[len(prefix[0]):])\n",
    "        return res + res2\n",
    "\n",
    "\n",
    "with open(\"input.txt\") as file:\n",
    "    lines = file.read().strip().splitlines()\n",
    "\n",
    "res = 0\n",
    "mul = 5\n",
    "for line in lines:\n",
    "    s, nums = line.strip().split()\n",
    "    nums = tuple(map(int, nums.split(\",\"))) * mul\n",
    "    s = ((s + '?')*mul)[:-1]\n",
    "\n",
    "    res += get_matches(nums, s)\n",
    "\n",
    "print(res)"
   ]
  },
  {
   "cell_type": "code",
   "execution_count": 3,
   "id": "c3e5ca6f-f4a9-43b5-b8b4-45dff249a5bd",
   "metadata": {
    "tags": []
   },
   "outputs": [],
   "source": [
    "with open(\"input.txt\") as file:\n",
    "    lines = file.read().strip().splitlines()"
   ]
  },
  {
   "cell_type": "code",
   "execution_count": 4,
   "id": "a1367b94-f222-40e9-94e5-4f474eafee67",
   "metadata": {
    "tags": []
   },
   "outputs": [
    {
     "data": {
      "text/plain": [
       "['???.### 1,1,3',\n",
       " '.??..??...?##. 1,1,3',\n",
       " '?#?#?#?#?#?#?#? 1,3,1,6',\n",
       " '????.#...#... 4,1,1',\n",
       " '????.######..#####. 1,6,5',\n",
       " '?###???????? 3,2,1']"
      ]
     },
     "execution_count": 4,
     "metadata": {},
     "output_type": "execute_result"
    }
   ],
   "source": [
    "lines"
   ]
  },
  {
   "cell_type": "code",
   "execution_count": 5,
   "id": "2a09b1cb-154c-40eb-b757-2107312f0cbc",
   "metadata": {
    "tags": []
   },
   "outputs": [
    {
     "data": {
      "text/plain": [
       "(2, 3)"
      ]
     },
     "execution_count": 5,
     "metadata": {},
     "output_type": "execute_result"
    }
   ],
   "source": [
    "x = (1,2,3)\n",
    "x[1:]"
   ]
  },
  {
   "cell_type": "code",
   "execution_count": 8,
   "id": "ae8e9d13-0792-4b71-96c7-de25bfa2ce86",
   "metadata": {
    "tags": []
   },
   "outputs": [
    {
     "name": "stdout",
     "output_type": "stream",
     "text": [
      "Part 1: 7118\n",
      "Part 2: 7030194981795\n"
     ]
    }
   ],
   "source": [
    "from functools import cache\n",
    "@cache\n",
    "def fit_count(pattern, counts):\n",
    "    if not counts:\n",
    "        return 0 if '#' in pattern else 1\n",
    "\n",
    "    biggest = max(counts)\n",
    "    biggest_i = counts.index(biggest)\n",
    "    left_counts, right_counts = counts[:biggest_i], counts[biggest_i+1:]\n",
    "\n",
    "    start_buffer = sum(left_counts)+len(left_counts)\n",
    "    end_buffer = sum(right_counts)+len(right_counts)\n",
    "\n",
    "    total = 0\n",
    "    for i in range(start_buffer, len(pattern)-end_buffer-biggest+1):\n",
    "        block_pattern = pattern[i:i+biggest]\n",
    "        left_border = \"\" if i == 0 else pattern[i-1]\n",
    "        right_border = \"\" if i+biggest == len(pattern) else pattern[i+biggest]\n",
    "\n",
    "        if '.' not in block_pattern and left_border != '#' and right_border != '#':\n",
    "            left_total = fit_count(pattern[:i-len(left_border)], left_counts)\n",
    "            right_total = fit_count(pattern[i+biggest+len(right_border):], right_counts)\n",
    "            total += left_total * right_total\n",
    "    return total\n",
    "\n",
    "data = []\n",
    "for line in open(\"data.txt\").readlines():\n",
    "    pattern, counts = line.split()\n",
    "    data.append((pattern, tuple(int(x) for x in counts.split(','))))\n",
    "\n",
    "print(\"Part 1:\", sum(fit_count(*line) for line in data))\n",
    "unfolded = [(\"?\".join([pattern,]*5), counts*5) for pattern, counts in data]\n",
    "print(\"Part 2:\", sum(fit_count(*line) for line in unfolded))"
   ]
  },
  {
   "cell_type": "code",
   "execution_count": null,
   "id": "4025fd66-eb0a-4d04-8b27-a6b686b8cab7",
   "metadata": {},
   "outputs": [],
   "source": []
  }
 ],
 "metadata": {
  "kernelspec": {
   "display_name": "Python 3 (ipykernel)",
   "language": "python",
   "name": "python3"
  },
  "language_info": {
   "codemirror_mode": {
    "name": "ipython",
    "version": 3
   },
   "file_extension": ".py",
   "mimetype": "text/x-python",
   "name": "python",
   "nbconvert_exporter": "python",
   "pygments_lexer": "ipython3",
   "version": "3.10.9"
  }
 },
 "nbformat": 4,
 "nbformat_minor": 5
}
