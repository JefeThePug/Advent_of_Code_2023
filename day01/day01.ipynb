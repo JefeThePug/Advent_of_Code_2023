{
 "cells": [
  {
   "cell_type": "code",
   "execution_count": 24,
   "id": "6c31cb85-f5e7-46b3-99bc-2150d931517c",
   "metadata": {
    "tags": []
   },
   "outputs": [
    {
     "name": "stdout",
     "output_type": "stream",
     "text": [
      "55386\n"
     ]
    }
   ],
   "source": [
    "\"\"\"\n",
    "--- Day 1: Trebuchet?! ---\n",
    "\n",
    "You try to ask why they can't just use a weather machine (\"not powerful enough\") and where they're even sending \n",
    "you (\"the sky\") and why your map looks mostly blank (\"you sure ask a lot of questions\") and hang on did you just \n",
    "say the sky (\"of course, where do you think snow comes from\") when you realize that the Elves are already \n",
    "loading you into a trebuchet (\"please hold still, we need to strap you in\").\n",
    "\n",
    "As they're making the final adjustments, they discover that their calibration document (your puzzle input) has \n",
    "been amended by a very young Elf who was apparently just excited to show off her art skills. Consequently, the \n",
    "Elves are having trouble reading the values on the document.\n",
    "\n",
    "The newly-improved calibration document consists of lines of text; each line originally contained a specific \n",
    "calibration value that the Elves now need to recover. On each line, the calibration value can be found by \n",
    "combining the first digit and the last digit (in that order) to form a single two-digit number.\n",
    "\n",
    "For example:\n",
    "\n",
    "1abc2\n",
    "pqr3stu8vwx\n",
    "a1b2c3d4e5f\n",
    "treb7uchet\n",
    "\n",
    "In this example, the calibration values of these four lines are 12, 38, 15, and 77. \n",
    "Adding these together produces 142.\n",
    "\n",
    "Consider your entire calibration document. What is the sum of all of the calibration values?\n",
    "\n",
    "\"\"\"\n",
    "\n",
    "from string import ascii_lowercase as letters\n",
    "\n",
    "def get_num(s: str) -> int:\n",
    "    return int(f\"{s[0]}{s[-1]}\") if s else 0\n",
    "\n",
    "def get_calibration_sum(s: str) -> int:\n",
    "    return sum(get_num(line.strip(letters)) for line in s.split(\"\\n\"))\n",
    "    \n",
    "with open(\"input.txt\") as f:\n",
    "    print(get_calibration_sum(f.read()))\n",
    "    \n",
    "#sum is 55386"
   ]
  },
  {
   "cell_type": "code",
   "execution_count": 25,
   "id": "0ca76880-e34d-4776-b1ad-d46ccc48b5ca",
   "metadata": {},
   "outputs": [
    {
     "name": "stdout",
     "output_type": "stream",
     "text": [
      "54824\n"
     ]
    }
   ],
   "source": [
    "\"\"\"\n",
    "--- Part Two ---\n",
    "\n",
    "Your calculation isn't quite right. It looks like some of the digits are actually spelled out with letters: \n",
    "one, two, three, four, five, six, seven, eight, and nine also count as valid \"digits\".\n",
    "\n",
    "Equipped with this new information, you now need to find the real first and last digit on each line. \n",
    "For example:\n",
    "\n",
    "two1nine\n",
    "eightwothree\n",
    "abcone2threexyz\n",
    "xtwone3four\n",
    "4nineeightseven2\n",
    "zoneight234\n",
    "7pqrstsixteen\n",
    "\n",
    "In this example, the calibration values are 29, 83, 13, 24, 42, 14, and 76. Adding these together produces 281.\n",
    "\n",
    "What is the sum of all of the calibration values?\n",
    "\n",
    "\"\"\"\n",
    "\n",
    "from string import ascii_lowercase as letters\n",
    "\n",
    "def get_num(s: str) -> int:\n",
    "    return int(f\"{s[0]}{s[-1]}\") if s else 0\n",
    "\n",
    "def numberize(s: str) -> str:\n",
    "    replacements = {\n",
    "        \"one\": \"o1e\", \"two\": \"t2o\", \"three\": \"t3e\", \"four\": \"f4r\", \"five\": \"f5e\", \n",
    "        \"six\": \"s6x\", \"seven\": \"s7n\", \"eight\": \"e8t\", \"nine\": \"n9e\", \"zero\": \"z0o\"}\n",
    "    for old, new in replacements.items():\n",
    "        s = s.replace(old, new)\n",
    "    return s\n",
    "\n",
    "def get_calibration_sum(s: str) -> int:\n",
    "    return sum(get_num(numberize(line).strip(letters)) for line in s.split(\"\\n\"))\n",
    "    \n",
    "with open(\"input.txt\") as f:\n",
    "    print(get_calibration_sum(f.read()))\n",
    "    \n",
    "#sum is 54824"
   ]
  },
  {
   "cell_type": "code",
   "execution_count": null,
   "id": "b0e9025a-cee1-4301-8ad8-daaaac17b4ad",
   "metadata": {
    "tags": []
   },
   "outputs": [],
   "source": []
  },
  {
   "cell_type": "code",
   "execution_count": null,
   "id": "c18bb82a-7d49-424b-b8f3-a41213067a37",
   "metadata": {},
   "outputs": [],
   "source": []
  }
 ],
 "metadata": {
  "kernelspec": {
   "display_name": "Python 3 (ipykernel)",
   "language": "python",
   "name": "python3"
  },
  "language_info": {
   "codemirror_mode": {
    "name": "ipython",
    "version": 3
   },
   "file_extension": ".py",
   "mimetype": "text/x-python",
   "name": "python",
   "nbconvert_exporter": "python",
   "pygments_lexer": "ipython3",
   "version": "3.10.9"
  }
 },
 "nbformat": 4,
 "nbformat_minor": 5
}
