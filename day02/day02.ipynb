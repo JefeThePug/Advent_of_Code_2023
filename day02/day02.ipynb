{
 "cells": [
  {
   "cell_type": "code",
   "execution_count": 33,
   "id": "56f973ad-0879-4095-9a31-ea90dbb76ea4",
   "metadata": {
    "tags": []
   },
   "outputs": [
    {
     "name": "stdout",
     "output_type": "stream",
     "text": [
      "2331\n"
     ]
    }
   ],
   "source": [
    "\"\"\"\n",
    "--- Day 2: Cube Conundrum ---\n",
    "\n",
    "You're launched high into the atmosphere! The apex of your trajectory just barely reaches the surface of a \n",
    "large island floating in the sky. You gently land in a fluffy pile of leaves. It's quite cold, but you don't \n",
    "see much snow. An Elf runs over to greet you.\n",
    "\n",
    "The Elf explains that you've arrived at Snow Island and apologizes for the lack of snow. He'll be happy to \n",
    "explain the situation, but it's a bit of a walk, so you have some time. They don't get many visitors up here; \n",
    "would you like to play a game in the meantime?\n",
    "\n",
    "As you walk, the Elf shows you a small bag and some cubes which are either red, green, or blue. Each time you \n",
    "play this game, he will hide a secret number of cubes of each color in the bag, and your goal is to figure out \n",
    "information about the number of cubes.\n",
    "\n",
    "To get information, once a bag has been loaded with cubes, the Elf will reach into the bag, grab a handful of \n",
    "random cubes, show them to you, and then put them back in the bag. He'll do this a few times per game.\n",
    "\n",
    "You play several games and record the information from each game (your puzzle input). Each game is listed with \n",
    "its ID number (like the 11 in Game 11: ...) followed by a semicolon-separated list of subsets of cubes that \n",
    "were revealed from the bag (like 3 red, 5 green, 4 blue).\n",
    "\n",
    "For example, the record of a few games might look like this:\n",
    "\n",
    "Game 1: 3 blue, 4 red; 1 red, 2 green, 6 blue; 2 green\n",
    "Game 2: 1 blue, 2 green; 3 green, 4 blue, 1 red; 1 green, 1 blue\n",
    "Game 3: 8 green, 6 blue, 20 red; 5 blue, 4 red, 13 green; 5 green, 1 red\n",
    "Game 4: 1 green, 3 red, 6 blue; 3 green, 6 red; 3 green, 15 blue, 14 red\n",
    "Game 5: 6 red, 1 blue, 3 green; 2 blue, 1 red, 2 green\n",
    "\n",
    "In game 1, three sets of cubes are revealed from the bag (and then put back again). The first set is 3 blue \n",
    "cubes and 4 red cubes; the second set is 1 red cube, 2 green cubes, and 6 blue cubes; the third set is only \n",
    "2 green cubes.\n",
    "\n",
    "The Elf would first like to know which games would have been possible if the bag contained only 12 red cubes, \n",
    "13 green cubes, and 14 blue cubes?\n",
    "\n",
    "In the example above, games 1, 2, and 5 would have been possible if the bag had been loaded with that \n",
    "configuration. However, game 3 would have been impossible because at one point the Elf showed you 20 red cubes \n",
    "at once; similarly, game 4 would also have been impossible because the Elf showed you 15 blue cubes at once. \n",
    "If you add up the IDs of the games that would have been possible, you get 8.\n",
    "\n",
    "Determine which games would have been possible if the bag had been loaded with only 12 red cubes, 13 green \n",
    "cubes, and 14 blue cubes. What is the sum of the IDs of those games?\n",
    "\n",
    "\"\"\"\n",
    "\n",
    "from typing import List\n",
    "from itertools import islice\n",
    "\n",
    "\n",
    "def split_parts(s: str) -> int:\n",
    "    game_id, blocks = s.split(\":\")\n",
    "    game_id = int(game_id.removeprefix(\"Game \"))\n",
    "    blocks = blocks.translate(blocks.maketrans(\"\",\"\",\",;\")).split()\n",
    "    \n",
    "    return game_id * get_success(blocks)\n",
    "\n",
    "def get_success(s: str) -> int:   \n",
    "    allowed = {'red': 12, 'green': 13, 'blue': 14}\n",
    "    maxvalues = {}\n",
    "    for color, num in ((s[i+1], s[i]) for i in range(0, len(s), 2)):\n",
    "        maxvalues[color] = max(maxvalues.get(color, 0), int(num))\n",
    "\n",
    "    return all(maxvalues[color] <= allowed[color] for color in (\"red\", \"green\", \"blue\"))\n",
    "\n",
    "def sum_game_ids(s: List[str]) -> int:\n",
    "    return sum(split_parts(game) for game in s)\n",
    "\n",
    "with open(\"input.txt\") as f:\n",
    "    print(sum_game_ids(f.read()[:-1].split(\"\\n\")))\n",
    "    \n",
    "#sum is 2331\n"
   ]
  },
  {
   "cell_type": "code",
   "execution_count": 34,
   "id": "957d0e86-a07b-4613-acca-ccb596b4b40d",
   "metadata": {
    "tags": []
   },
   "outputs": [
    {
     "name": "stdout",
     "output_type": "stream",
     "text": [
      "71585\n"
     ]
    }
   ],
   "source": [
    "\"\"\"\n",
    "--- Part Two ---\n",
    "\n",
    "The Elf says they've stopped producing snow because they aren't getting any water! He isn't sure why the water \n",
    "stopped; however, he can show you how to get to the water source to check it out for yourself. It's just up ahead!\n",
    "\n",
    "As you continue your walk, the Elf poses a second question: in each game you played, what is the fewest number of \n",
    "cubes of each color that could have been in the bag to make the game possible?\n",
    "\n",
    "Again consider the example games from earlier:\n",
    "\n",
    "Game 1: 3 blue, 4 red; 1 red, 2 green, 6 blue; 2 green\n",
    "Game 2: 1 blue, 2 green; 3 green, 4 blue, 1 red; 1 green, 1 blue\n",
    "Game 3: 8 green, 6 blue, 20 red; 5 blue, 4 red, 13 green; 5 green, 1 red\n",
    "Game 4: 1 green, 3 red, 6 blue; 3 green, 6 red; 3 green, 15 blue, 14 red\n",
    "Game 5: 6 red, 1 blue, 3 green; 2 blue, 1 red, 2 green\n",
    "\n",
    " - In game 1, the game could have been played with as few as 4 red, 2 green, and 6 blue cubes. If any color had \n",
    "   even one fewer cube, the game would have been impossible.\n",
    " - Game 2 could have been played with a minimum of 1 red, 3 green, and 4 blue cubes.\n",
    " - Game 3 must have been played with at least 20 red, 13 green, and 6 blue cubes.\n",
    " - Game 4 required at least 14 red, 3 green, and 15 blue cubes.\n",
    " - Game 5 needed no fewer than 6 red, 3 green, and 2 blue cubes in the bag.\n",
    " \n",
    "The power of a set of cubes is equal to the numbers of red, green, and blue cubes multiplied together. The power \n",
    "of the minimum set of cubes in game 1 is 48. In games 2-5 it was 12, 1560, 630, and 36, respectively. Adding up \n",
    "these five powers produces the sum 2286.\n",
    "\n",
    "For each game, find the minimum set of cubes that must have been present. \n",
    "What is the sum of the power of these sets?\n",
    "\n",
    "\"\"\"\n",
    "\n",
    "from typing import List\n",
    "from itertools import islice\n",
    "from math import prod\n",
    "\n",
    "\n",
    "def get_power(s: str) -> int:\n",
    "    game_id, blocks = s.split(\":\")\n",
    "    game_id = int(game_id.removeprefix(\"Game \"))\n",
    "    blocks = blocks.translate(blocks.maketrans(\"\",\"\",\",;\")).split()\n",
    "    \n",
    "    maxvalues = {}\n",
    "    for color, num in ((blocks[i+1], blocks[i]) for i in range(0, len(blocks), 2)):\n",
    "        maxvalues[color] = max(maxvalues.get(color, 0), int(num))\n",
    "\n",
    "    return prod(maxvalues.values())\n",
    "\n",
    "def sum_of_power(s: List[str]) -> int:\n",
    "    return sum(get_power(game) for game in s)\n",
    "\n",
    "with open(\"input.txt\") as f:\n",
    "    print(sum_of_power(f.read()[:-1].split(\"\\n\")))\n",
    "    \n",
    "#sum of the power is 71585\n"
   ]
  },
  {
   "cell_type": "code",
   "execution_count": null,
   "id": "5851708d-f60a-4c09-bbd9-9ab98779b8a9",
   "metadata": {
    "tags": []
   },
   "outputs": [],
   "source": []
  }
 ],
 "metadata": {
  "kernelspec": {
   "display_name": "Python 3 (ipykernel)",
   "language": "python",
   "name": "python3"
  },
  "language_info": {
   "codemirror_mode": {
    "name": "ipython",
    "version": 3
   },
   "file_extension": ".py",
   "mimetype": "text/x-python",
   "name": "python",
   "nbconvert_exporter": "python",
   "pygments_lexer": "ipython3",
   "version": "3.10.9"
  }
 },
 "nbformat": 4,
 "nbformat_minor": 5
}
