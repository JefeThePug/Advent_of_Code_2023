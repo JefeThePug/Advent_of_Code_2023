{
 "cells": [
  {
   "cell_type": "code",
   "execution_count": 168,
   "id": "6c31cb85-f5e7-46b3-99bc-2150d931517c",
   "metadata": {
    "tags": []
   },
   "outputs": [
    {
     "name": "stdout",
     "output_type": "stream",
     "text": [
      "3503\n"
     ]
    }
   ],
   "source": [
    "\"\"\" \n",
    "--- Day 21: Step Counter ---\n",
    "\n",
    "You manage to catch the airship right as it's dropping someone else off on their all-expenses-paid trip to \n",
    "Desert Island! It even helpfully drops you off near the gardener and his massive farm.\n",
    "\n",
    "\"You got the sand flowing again! Great work! Now we just need to wait until we have enough sand to filter the \n",
    "water for Snow Island and we'll have snow again in no time.\"\n",
    "\n",
    "While you wait, one of the Elves that works with the gardener heard how good you are at solving problems and \n",
    "would like your help. He needs to get his steps in for the day, and so he'd like to know which garden plots he \n",
    "can reach with exactly his remaining 64 steps.\n",
    "\n",
    "He gives you an up-to-date map (your puzzle input) of his starting position (S), garden plots (.), and rocks (#). \n",
    "For example:\n",
    "    ...........\n",
    "    .....###.#.\n",
    "    .###.##..#.\n",
    "    ..#.#...#..\n",
    "    ....#.#....\n",
    "    .##..S####.\n",
    "    .##..#...#.\n",
    "    .......##..\n",
    "    .##.#.####.\n",
    "    .##..##.##.\n",
    "    ...........\n",
    "The Elf starts at the starting position (S) which also counts as a garden plot. Then, he can take one step north, \n",
    "south, east, or west, but only onto tiles that are garden plots. This would allow him to reach any of the tiles \n",
    "marked O. Then, he takes a second step. Since at this point he could be at either tile marked O, his second step \n",
    "would allow him to reach any garden plot that is one step north, south, east, or west of any tile that he could \n",
    "have reached after the first step. After two steps, he could be at any of the tiles marked O above, including the \n",
    "starting position (either by going north-then-south or by going west-then-east). A single third step leads to even \n",
    "more possibilities:\n",
    "    1) ...........    2) ...........    3) ...........\n",
    "       .....###.#.       .....###.#.       .....###.#.\n",
    "       .###.##..#.       .###.##..#.       .###.##..#.\n",
    "       ..#.#...#..       ..#.#O..#..       ..#.#.O.#..\n",
    "       ....#O#....       ....#.#....       ...O#O#....\n",
    "       .##.OS####.       .##O.O####.       .##.OS####.\n",
    "       .##..#...#.       .##.O#...#.       .##O.#...#.\n",
    "       .......##..       .......##..       ....O..##..\n",
    "       .##.#.####.       .##.#.####.       .##.#.####.\n",
    "       .##..##.##.       .##..##.##.       .##..##.##.\n",
    "       ...........       ...........       ...........\n",
    "He will continue like this until his steps for the day have been exhausted. After a total of 6 steps, he could \n",
    "reach any of the garden plots marked O:\n",
    "    ...........\n",
    "    .....###.#.\n",
    "    .###.##.O#.\n",
    "    .O#O#O.O#..\n",
    "    O.O.#.#.O..\n",
    "    .##O.O####.\n",
    "    .##.O#O..#.\n",
    "    .O.O.O.##..\n",
    "    .##.#.####.\n",
    "    .##O.##.##.\n",
    "    ...........\n",
    "In this example, if the Elf's goal was to get exactly 6 more steps today, he could use them to reach any of 16 \n",
    "garden plots.\n",
    "\n",
    "However, the Elf actually needs to get 64 steps today, and the map he's handed you is much larger than the \n",
    "example map.\n",
    "\n",
    "Starting from the garden plot marked S on your map, how many garden plots could the Elf reach in exactly 64 \n",
    "steps?\n",
    "\n",
    "\"\"\"\n",
    "\n",
    "import numpy as np\n",
    "\n",
    "NUM = 64\n",
    "\n",
    "def step(y, x, n):\n",
    "    if n > NUM:\n",
    "        return\n",
    "\n",
    "    directions = [(1, 0), (-1, 0), (0, 1), (0, -1)]\n",
    "    for dy, dx in directions:\n",
    "        pos = (y + dy, x + dx)\n",
    "        \n",
    "        if garden[pos] != \"#\" and (not garden[pos].isnumeric() or int(garden[pos]) > n):\n",
    "            garden[pos] = f\"{n}\"\n",
    "            step(*pos, n + 1)\n",
    "            \n",
    "with open(\"data.txt\") as f:\n",
    "    garden = np.array([list(line.strip()) for line in f], dtype=np.dtype('<U2'))\n",
    "    \n",
    "start = map(np.ndarray.item, np.where(garden == \"S\"))\n",
    "step(*start, 1)\n",
    "\n",
    "x = [*map(str, range(0,65,2))]\n",
    "garden[np.isin(garden, x)] = \"O\"\n",
    "\n",
    "print(np.count_nonzero(garden == \"O\"))\n",
    "\n",
    "y = [*map(str, range(1,65,2))]\n",
    "garden[np.isin(garden, y)] = \"-\"\n",
    "#garden[np.all((garden != \"O\", garden != \"#\"))] = \"-\"\n",
    "np.savetxt(\"output.txt\", garden, fmt=\"%s\", delimiter=\"\")\n",
    "\n",
    "# total plots is 3503"
   ]
  },
  {
   "cell_type": "code",
   "execution_count": 152,
   "id": "0ca76880-e34d-4776-b1ad-d46ccc48b5ca",
   "metadata": {},
   "outputs": [
    {
     "ename": "IndexError",
     "evalue": "index 261 is out of bounds for axis 1 with size 143",
     "output_type": "error",
     "traceback": [
      "\u001b[0;31m---------------------------------------------------------------------------\u001b[0m",
      "\u001b[0;31mIndexError\u001b[0m                                Traceback (most recent call last)",
      "Cell \u001b[0;32mIn[152], line 102\u001b[0m\n\u001b[1;32m     99\u001b[0m     template \u001b[38;5;241m=\u001b[39m np\u001b[38;5;241m.\u001b[39mcopy(garden)\n\u001b[1;32m    101\u001b[0m start \u001b[38;5;241m=\u001b[39m \u001b[38;5;28mmap\u001b[39m(np\u001b[38;5;241m.\u001b[39mndarray\u001b[38;5;241m.\u001b[39mitem, np\u001b[38;5;241m.\u001b[39mwhere(garden \u001b[38;5;241m==\u001b[39m \u001b[38;5;124m\"\u001b[39m\u001b[38;5;124mS\u001b[39m\u001b[38;5;124m\"\u001b[39m))\n\u001b[0;32m--> 102\u001b[0m \u001b[43mstep\u001b[49m\u001b[43m(\u001b[49m\u001b[38;5;241;43m*\u001b[39;49m\u001b[43mstart\u001b[49m\u001b[43m,\u001b[49m\u001b[43m \u001b[49m\u001b[38;5;241;43m1\u001b[39;49m\u001b[43m)\u001b[49m\n\u001b[1;32m    104\u001b[0m x \u001b[38;5;241m=\u001b[39m [\u001b[38;5;241m*\u001b[39m\u001b[38;5;28mmap\u001b[39m(\u001b[38;5;28mstr\u001b[39m, \u001b[38;5;28mrange\u001b[39m(\u001b[38;5;241m0\u001b[39m,\u001b[38;5;241m65\u001b[39m,\u001b[38;5;241m2\u001b[39m))]\n\u001b[1;32m    105\u001b[0m garden[np\u001b[38;5;241m.\u001b[39misin(garden, x)] \u001b[38;5;241m=\u001b[39m \u001b[38;5;124m\"\u001b[39m\u001b[38;5;124mO\u001b[39m\u001b[38;5;124m\"\u001b[39m\n",
      "Cell \u001b[0;32mIn[152], line 95\u001b[0m, in \u001b[0;36mstep\u001b[0;34m(y, x, n)\u001b[0m\n\u001b[1;32m     93\u001b[0m \u001b[38;5;28;01mif\u001b[39;00m garden[pos] \u001b[38;5;241m!=\u001b[39m \u001b[38;5;124m\"\u001b[39m\u001b[38;5;124m#\u001b[39m\u001b[38;5;124m\"\u001b[39m \u001b[38;5;129;01mand\u001b[39;00m (\u001b[38;5;129;01mnot\u001b[39;00m garden[pos]\u001b[38;5;241m.\u001b[39misnumeric() \u001b[38;5;129;01mor\u001b[39;00m \u001b[38;5;28mint\u001b[39m(garden[pos]) \u001b[38;5;241m>\u001b[39m n):\n\u001b[1;32m     94\u001b[0m     garden[pos] \u001b[38;5;241m=\u001b[39m \u001b[38;5;124mf\u001b[39m\u001b[38;5;124m\"\u001b[39m\u001b[38;5;132;01m{\u001b[39;00mn\u001b[38;5;132;01m}\u001b[39;00m\u001b[38;5;124m\"\u001b[39m\n\u001b[0;32m---> 95\u001b[0m     \u001b[43mstep\u001b[49m\u001b[43m(\u001b[49m\u001b[38;5;241;43m*\u001b[39;49m\u001b[43mpos\u001b[49m\u001b[43m,\u001b[49m\u001b[43m \u001b[49m\u001b[43mn\u001b[49m\u001b[43m \u001b[49m\u001b[38;5;241;43m+\u001b[39;49m\u001b[43m \u001b[49m\u001b[38;5;241;43m1\u001b[39;49m\u001b[43m)\u001b[49m\n",
      "Cell \u001b[0;32mIn[152], line 95\u001b[0m, in \u001b[0;36mstep\u001b[0;34m(y, x, n)\u001b[0m\n\u001b[1;32m     93\u001b[0m \u001b[38;5;28;01mif\u001b[39;00m garden[pos] \u001b[38;5;241m!=\u001b[39m \u001b[38;5;124m\"\u001b[39m\u001b[38;5;124m#\u001b[39m\u001b[38;5;124m\"\u001b[39m \u001b[38;5;129;01mand\u001b[39;00m (\u001b[38;5;129;01mnot\u001b[39;00m garden[pos]\u001b[38;5;241m.\u001b[39misnumeric() \u001b[38;5;129;01mor\u001b[39;00m \u001b[38;5;28mint\u001b[39m(garden[pos]) \u001b[38;5;241m>\u001b[39m n):\n\u001b[1;32m     94\u001b[0m     garden[pos] \u001b[38;5;241m=\u001b[39m \u001b[38;5;124mf\u001b[39m\u001b[38;5;124m\"\u001b[39m\u001b[38;5;132;01m{\u001b[39;00mn\u001b[38;5;132;01m}\u001b[39;00m\u001b[38;5;124m\"\u001b[39m\n\u001b[0;32m---> 95\u001b[0m     \u001b[43mstep\u001b[49m\u001b[43m(\u001b[49m\u001b[38;5;241;43m*\u001b[39;49m\u001b[43mpos\u001b[49m\u001b[43m,\u001b[49m\u001b[43m \u001b[49m\u001b[43mn\u001b[49m\u001b[43m \u001b[49m\u001b[38;5;241;43m+\u001b[39;49m\u001b[43m \u001b[49m\u001b[38;5;241;43m1\u001b[39;49m\u001b[43m)\u001b[49m\n",
      "    \u001b[0;31m[... skipping similar frames: step at line 95 (6 times)]\u001b[0m\n",
      "Cell \u001b[0;32mIn[152], line 95\u001b[0m, in \u001b[0;36mstep\u001b[0;34m(y, x, n)\u001b[0m\n\u001b[1;32m     93\u001b[0m \u001b[38;5;28;01mif\u001b[39;00m garden[pos] \u001b[38;5;241m!=\u001b[39m \u001b[38;5;124m\"\u001b[39m\u001b[38;5;124m#\u001b[39m\u001b[38;5;124m\"\u001b[39m \u001b[38;5;129;01mand\u001b[39;00m (\u001b[38;5;129;01mnot\u001b[39;00m garden[pos]\u001b[38;5;241m.\u001b[39misnumeric() \u001b[38;5;129;01mor\u001b[39;00m \u001b[38;5;28mint\u001b[39m(garden[pos]) \u001b[38;5;241m>\u001b[39m n):\n\u001b[1;32m     94\u001b[0m     garden[pos] \u001b[38;5;241m=\u001b[39m \u001b[38;5;124mf\u001b[39m\u001b[38;5;124m\"\u001b[39m\u001b[38;5;132;01m{\u001b[39;00mn\u001b[38;5;132;01m}\u001b[39;00m\u001b[38;5;124m\"\u001b[39m\n\u001b[0;32m---> 95\u001b[0m     \u001b[43mstep\u001b[49m\u001b[43m(\u001b[49m\u001b[38;5;241;43m*\u001b[39;49m\u001b[43mpos\u001b[49m\u001b[43m,\u001b[49m\u001b[43m \u001b[49m\u001b[43mn\u001b[49m\u001b[43m \u001b[49m\u001b[38;5;241;43m+\u001b[39;49m\u001b[43m \u001b[49m\u001b[38;5;241;43m1\u001b[39;49m\u001b[43m)\u001b[49m\n",
      "Cell \u001b[0;32mIn[152], line 93\u001b[0m, in \u001b[0;36mstep\u001b[0;34m(y, x, n)\u001b[0m\n\u001b[1;32m     91\u001b[0m     garden \u001b[38;5;241m=\u001b[39m np\u001b[38;5;241m.\u001b[39mconcatenate((garden, addition), axis\u001b[38;5;241m=\u001b[39m\u001b[38;5;241m1\u001b[39m)\n\u001b[1;32m     92\u001b[0m pos \u001b[38;5;241m=\u001b[39m (ny, nx)\n\u001b[0;32m---> 93\u001b[0m \u001b[38;5;28;01mif\u001b[39;00m \u001b[43mgarden\u001b[49m\u001b[43m[\u001b[49m\u001b[43mpos\u001b[49m\u001b[43m]\u001b[49m \u001b[38;5;241m!=\u001b[39m \u001b[38;5;124m\"\u001b[39m\u001b[38;5;124m#\u001b[39m\u001b[38;5;124m\"\u001b[39m \u001b[38;5;129;01mand\u001b[39;00m (\u001b[38;5;129;01mnot\u001b[39;00m garden[pos]\u001b[38;5;241m.\u001b[39misnumeric() \u001b[38;5;129;01mor\u001b[39;00m \u001b[38;5;28mint\u001b[39m(garden[pos]) \u001b[38;5;241m>\u001b[39m n):\n\u001b[1;32m     94\u001b[0m     garden[pos] \u001b[38;5;241m=\u001b[39m \u001b[38;5;124mf\u001b[39m\u001b[38;5;124m\"\u001b[39m\u001b[38;5;132;01m{\u001b[39;00mn\u001b[38;5;132;01m}\u001b[39;00m\u001b[38;5;124m\"\u001b[39m\n\u001b[1;32m     95\u001b[0m     step(\u001b[38;5;241m*\u001b[39mpos, n \u001b[38;5;241m+\u001b[39m \u001b[38;5;241m1\u001b[39m)\n",
      "\u001b[0;31mIndexError\u001b[0m: index 261 is out of bounds for axis 1 with size 143"
     ]
    }
   ],
   "source": [
    "\"\"\" \n",
    "--- Part Two ---\n",
    "\n",
    "The Elf seems confused by your answer until he realizes his mistake: he was reading from a list of his favorite \n",
    "numbers that are both perfect squares and perfect cubes, not his step counter.\n",
    "\n",
    "The actual number of steps he needs to get today is exactly 26501365.\n",
    "\n",
    "He also points out that the garden plots and rocks are set up so that the map repeats infinitely in every \n",
    "direction.\n",
    "\n",
    "So, if you were to look one additional map-width or map-height out from the edge of the example map above, you \n",
    "would find that it keeps repeating:\n",
    "    .................................\n",
    "    .....###.#......###.#......###.#.\n",
    "    .###.##..#..###.##..#..###.##..#.\n",
    "    ..#.#...#....#.#...#....#.#...#..\n",
    "    ....#.#........#.#........#.#....\n",
    "    .##...####..##...####..##...####.\n",
    "    .##..#...#..##..#...#..##..#...#.\n",
    "    .......##.........##.........##..\n",
    "    .##.#.####..##.#.####..##.#.####.\n",
    "    .##..##.##..##..##.##..##..##.##.\n",
    "    .................................\n",
    "    .................................\n",
    "    .....###.#......###.#......###.#.\n",
    "    .###.##..#..###.##..#..###.##..#.\n",
    "    ..#.#...#....#.#...#....#.#...#..\n",
    "    ....#.#........#.#........#.#....\n",
    "    .##...####..##..S####..##...####.\n",
    "    .##..#...#..##..#...#..##..#...#.\n",
    "    .......##.........##.........##..\n",
    "    .##.#.####..##.#.####..##.#.####.\n",
    "    .##..##.##..##..##.##..##..##.##.\n",
    "    .................................\n",
    "    .................................\n",
    "    .....###.#......###.#......###.#.\n",
    "    .###.##..#..###.##..#..###.##..#.\n",
    "    ..#.#...#....#.#...#....#.#...#..\n",
    "    ....#.#........#.#........#.#....\n",
    "    .##...####..##...####..##...####.\n",
    "    .##..#...#..##..#...#..##..#...#.\n",
    "    .......##.........##.........##..\n",
    "    .##.#.####..##.#.####..##.#.####.\n",
    "    .##..##.##..##..##.##..##..##.##.\n",
    "    .................................\n",
    "This is just a tiny three-map-by-three-map slice of the inexplicably-infinite farm layout; garden plots and \n",
    "rocks repeat as far as you can see. The Elf still starts on the one middle tile marked S, though - every other \n",
    "repeated S is replaced with a normal garden plot (.).\n",
    "\n",
    "Here are the number of reachable garden plots in this new infinite version of the example map for different \n",
    "numbers of steps:\n",
    " - In exactly 6 steps, he can still reach 16 garden plots.\n",
    " - In exactly 10 steps, he can reach any of 50 garden plots.\n",
    " - In exactly 50 steps, he can reach 1594 garden plots.\n",
    " - In exactly 100 steps, he can reach 6536 garden plots.\n",
    " - In exactly 500 steps, he can reach 167004 garden plots.\n",
    " - In exactly 1000 steps, he can reach 668697 garden plots.\n",
    " - In exactly 5000 steps, he can reach 16733044 garden plots.\n",
    "However, the step count the Elf needs is much larger! Starting from the garden plot marked S on your infinite \n",
    "map, how many garden plots could the Elf reach in exactly 26501365 steps?\n",
    "\n",
    "\"\"\"\n",
    "\n",
    "import numpy as np\n",
    "\n",
    "NUM = 10\n",
    "\n",
    "def step(y, x, n):\n",
    "    global garden\n",
    "    \n",
    "    if n > NUM:\n",
    "        return\n",
    "\n",
    "    directions = [(1, 0), (-1, 0), (0, 1), (0, -1)]\n",
    "    for dy, dx in directions:\n",
    "        ny, nx = y + dy, x + dx\n",
    "        if ny < 0:\n",
    "            addition = np.tile(template, (1, garden.shape[1]//template.shape[1]))\n",
    "            garden = np.concatenate((addition, garden), axis=0)\n",
    "            nx += garden.shape[1]\n",
    "        if ny >= template.shape[0]:\n",
    "            addition = np.tile(template, (1, garden.shape[1]//template.shape[1]))\n",
    "            garden = np.concatenate((garden, addition), axis=0)\n",
    "        if nx < 0:\n",
    "            addition = np.tile(template, (garden.shape[0]//template.shape[0], 1))\n",
    "            garden = np.concatenate((addition, garden), axis=1)\n",
    "            ny += template.shape[0]\n",
    "        if nx >= garden.shape[1]:\n",
    "            addition = np.tile(template, (garden.shape[0]//template.shape[0], 1))\n",
    "            garden = np.concatenate((garden, addition), axis=1)\n",
    "        pos = (ny, nx)\n",
    "        if garden[pos] != \"#\" and (not garden[pos].isnumeric() or int(garden[pos]) > n):\n",
    "            garden[pos] = f\"{n}\"\n",
    "            step(*pos, n + 1)\n",
    "            \n",
    "with open(\"input.txt\") as f:\n",
    "    garden = np.array([list(line.strip()) for line in f], dtype=np.dtype('<U8'))\n",
    "    template = np.copy(garden)\n",
    "    \n",
    "start = map(np.ndarray.item, np.where(garden == \"S\"))\n",
    "step(*start, 1)\n",
    "\n",
    "x = [*map(str, range(0,65,2))]\n",
    "garden[np.isin(garden, x)] = \"O\"\n",
    "\n",
    "print(np.count_nonzero(garden == \"O\"))\n",
    "\n",
    "# total plots is 3503"
   ]
  },
  {
   "cell_type": "code",
   "execution_count": 156,
   "id": "42746fab-bf7e-483d-983b-6abc694576d8",
   "metadata": {
    "tags": []
   },
   "outputs": [],
   "source": [
    "np.savetxt(\"output.txt\", garden, fmt=\"%s\", delimiter=\",\")"
   ]
  },
  {
   "cell_type": "code",
   "execution_count": 154,
   "id": "e796281b-a7f8-41e2-929a-ae1ae3d9040f",
   "metadata": {
    "tags": []
   },
   "outputs": [
    {
     "data": {
      "text/plain": [
       "array([['.', '.', '.', '.', '.', '.', '.', '.', '.', '.', '.'],\n",
       "       ['.', '.', '.', '.', '.', '#', '#', '#', '.', '#', '.'],\n",
       "       ['.', '#', '#', '#', '.', '#', '#', '.', '.', '#', '.'],\n",
       "       ['.', '.', '#', '.', '#', '.', '.', '.', '#', '.', '.'],\n",
       "       ['.', '.', '.', '.', '#', '.', '#', '.', '.', '.', '.'],\n",
       "       ['.', '#', '#', '.', '.', 'S', '#', '#', '#', '#', '.'],\n",
       "       ['.', '#', '#', '.', '.', '#', '.', '.', '.', '#', '.'],\n",
       "       ['.', '.', '.', '.', '.', '.', '.', '#', '#', '.', '.'],\n",
       "       ['.', '#', '#', '.', '#', '.', '#', '#', '#', '#', '.'],\n",
       "       ['.', '#', '#', '.', '.', '#', '#', '.', '#', '#', '.'],\n",
       "       ['.', '.', '.', '.', '.', '.', '.', '.', '.', '.', '.']],\n",
       "      dtype='<U8')"
      ]
     },
     "execution_count": 154,
     "metadata": {},
     "output_type": "execute_result"
    }
   ],
   "source": [
    "template"
   ]
  },
  {
   "cell_type": "code",
   "execution_count": 145,
   "id": "7f4d551c-f1c7-4a9b-961d-423673f5ce12",
   "metadata": {
    "tags": []
   },
   "outputs": [
    {
     "data": {
      "text/plain": [
       "array([['.', '.', '.', '.', '.', '.', '.', '.', '.', '.', '.'],\n",
       "       ['.', '.', '.', '.', '.', '#', '#', '#', '.', '#', '.'],\n",
       "       ['.', '#', '#', '#', '.', '#', '#', '5', 'O', '#', '.'],\n",
       "       ['.', 'O', '#', 'O', '#', 'O', '3', 'O', '#', '.', '.'],\n",
       "       ['O', '5', 'O', '3', '#', '1', '#', '5', 'O', '.', '.'],\n",
       "       ['.', '#', '#', 'O', '1', 'O', '#', '#', '#', '#', '.'],\n",
       "       ['.', '#', '#', '3', 'O', '#', 'O', '.', '.', '#', '.'],\n",
       "       ['.', 'O', '5', 'O', '3', 'O', '5', '#', '#', '.', '.'],\n",
       "       ['.', '#', '#', '5', '#', '5', '#', '#', '#', '#', '.'],\n",
       "       ['.', '#', '#', 'O', '.', '#', '#', '.', '#', '#', '.'],\n",
       "       ['.', '.', '.', '.', '.', '.', '.', '.', '.', '.', '.'],\n",
       "       ['.', '.', '.', '.', '.', '.', '.', '.', '.', '.', '.'],\n",
       "       ['.', '.', '.', '.', '.', '#', '#', '#', '.', '#', '.'],\n",
       "       ['.', '#', '#', '#', '.', '#', '#', '.', '.', '#', '.'],\n",
       "       ['.', '.', '#', '.', '#', '.', '.', '.', '#', '.', '.'],\n",
       "       ['.', '.', '.', '.', '#', '.', '#', '.', '.', '.', '.'],\n",
       "       ['.', '#', '#', '.', '.', 'S', '#', '#', '#', '#', '.'],\n",
       "       ['.', '#', '#', '.', '.', '#', '.', '.', '.', '#', '.'],\n",
       "       ['.', '.', '.', '.', '.', '.', '.', '#', '#', '.', '.'],\n",
       "       ['.', '#', '#', '.', '#', '.', '#', '#', '#', '#', '.'],\n",
       "       ['.', '#', '#', '.', '.', '#', '#', '.', '#', '#', '.'],\n",
       "       ['.', '.', '.', '.', '.', '.', '.', '.', '.', '.', '.']],\n",
       "      dtype='<U8')"
      ]
     },
     "execution_count": 145,
     "metadata": {},
     "output_type": "execute_result"
    }
   ],
   "source": [
    "np.concatenate((garden, template), axis=0)"
   ]
  },
  {
   "cell_type": "code",
   "execution_count": 122,
   "id": "1f3e42dd-d486-4987-862f-78467c251064",
   "metadata": {},
   "outputs": [
    {
     "name": "stdout",
     "output_type": "stream",
     "text": [
      "[1, 64, 729, 4096, 15625, 46656, 117649, 262144, 531441, 1000000, 1771561, 2985984, 4826809, 7529536, 11390625, 16777216, 24137569, 34012224]\n"
     ]
    }
   ],
   "source": [
    "def perfect_square_and_cube_numbers(limit):\n",
    "    result = [num**6 for num in range(1, int(limit**(1/6)) + 1)]\n",
    "    return result\n",
    "\n",
    "limit = 40137569\n",
    "result_list = perfect_square_and_cube_numbers(limit)\n",
    "\n",
    "print(result_list)"
   ]
  },
  {
   "cell_type": "code",
   "execution_count": 125,
   "id": "dd6520ff-1ea6-4765-bd36-14597192083c",
   "metadata": {
    "tags": []
   },
   "outputs": [
    {
     "ename": "SyntaxError",
     "evalue": "illegal target for annotation (3271183691.py, line 1)",
     "output_type": "error",
     "traceback": [
      "\u001b[0;36m  Cell \u001b[0;32mIn[125], line 1\u001b[0;36m\u001b[0m\n\u001b[0;31m    64: 3503\u001b[0m\n\u001b[0m    ^\u001b[0m\n\u001b[0;31mSyntaxError\u001b[0m\u001b[0;31m:\u001b[0m illegal target for annotation\n"
     ]
    }
   ],
   "source": []
  },
  {
   "cell_type": "code",
   "execution_count": 169,
   "id": "bdf003d5-b5dd-469c-962c-394c1961e7c3",
   "metadata": {
    "tags": []
   },
   "outputs": [
    {
     "name": "stdout",
     "output_type": "stream",
     "text": [
      "11\n"
     ]
    }
   ],
   "source": [
    "with open(\"output.txt\") as f:\n",
    "    print(f.read().count(\"@\"))"
   ]
  },
  {
   "cell_type": "code",
   "execution_count": 170,
   "id": "5b574e3f-c4f1-45f6-9ffb-6431a9897696",
   "metadata": {
    "tags": []
   },
   "outputs": [
    {
     "data": {
      "text/plain": [
       "59.27900134111572"
      ]
     },
     "execution_count": 170,
     "metadata": {},
     "output_type": "execute_result"
    }
   ],
   "source": [
    "3514**0.5"
   ]
  },
  {
   "cell_type": "code",
   "execution_count": 171,
   "id": "77b4eeef-e032-40ee-93f4-0eda33d4ca6e",
   "metadata": {
    "tags": []
   },
   "outputs": [
    {
     "data": {
      "text/plain": [
       "3600"
      ]
     },
     "execution_count": 171,
     "metadata": {},
     "output_type": "execute_result"
    }
   ],
   "source": [
    "60**2"
   ]
  },
  {
   "cell_type": "code",
   "execution_count": 172,
   "id": "e4c790a4-39c0-4723-a73e-7a011ba57766",
   "metadata": {
    "tags": []
   },
   "outputs": [
    {
     "data": {
      "text/plain": [
       "4096"
      ]
     },
     "execution_count": 172,
     "metadata": {},
     "output_type": "execute_result"
    }
   ],
   "source": [
    "64**2"
   ]
  },
  {
   "cell_type": "code",
   "execution_count": 173,
   "id": "b9346cd5-375b-4f43-963c-eb9dcd71576a",
   "metadata": {
    "tags": []
   },
   "outputs": [
    {
     "name": "stdout",
     "output_type": "stream",
     "text": [
      "(3503, 584205647555604)\n"
     ]
    }
   ],
   "source": [
    "def main(ROOT = \"..\"):\n",
    "    file = open(\"data.txt\", \"r\")\n",
    "    grid = [i.strip() for i in file.readlines()]\n",
    "\n",
    "    H, W = len(grid), len(grid[0])\n",
    "\n",
    "    def part2(seq, qt):\n",
    "        diff1 = seq[1] - seq[0]\n",
    "        diff2 = seq[2] - seq[1]\n",
    "        diff = diff2 - diff1\n",
    "        tot = seq[2] + diff2 * (qt - 1) + diff * qt * (qt - 1) // 2\n",
    "        return tot\n",
    "\n",
    "    def neigh4(x, y):\n",
    "        for nx, ny in (x - 1, y), (x + 1, y), (x, y - 1), (x, y + 1):\n",
    "            yield (nx, ny)\n",
    "\n",
    "    LIM = 26501365\n",
    "    for i in range(H):\n",
    "        for j in range(W):\n",
    "            if grid[i][j] != \"S\": continue\n",
    "            queue = [(i, j)]\n",
    "            seq = []\n",
    "            for step in range(1, LIM):\n",
    "                nq = []\n",
    "                seen = set()\n",
    "                for x, y in queue:\n",
    "                    for nx, ny in neigh4(x, y):\n",
    "                        if grid[nx % H][ny % W] != \"#\" and (nx, ny) not in seen:\n",
    "                            seen.add((nx, ny))\n",
    "                            nq.append((nx, ny))\n",
    "                queue = nq[:]\n",
    "                if step == 64:\n",
    "                    part1 = len(queue)\n",
    "                if step % H == LIM % H:\n",
    "                    seq.append(len(queue))\n",
    "                    if len(seq) >= 3:\n",
    "                        return part1, part2(seq, (LIM - step) // H)\n",
    "\n",
    "if __name__ == \"__main__\":\n",
    "    print(main())"
   ]
  },
  {
   "cell_type": "code",
   "execution_count": null,
   "id": "9419ab1d-44da-46a9-b930-f6ac186150d6",
   "metadata": {},
   "outputs": [],
   "source": []
  }
 ],
 "metadata": {
  "kernelspec": {
   "display_name": "Python 3 (ipykernel)",
   "language": "python",
   "name": "python3"
  },
  "language_info": {
   "codemirror_mode": {
    "name": "ipython",
    "version": 3
   },
   "file_extension": ".py",
   "mimetype": "text/x-python",
   "name": "python",
   "nbconvert_exporter": "python",
   "pygments_lexer": "ipython3",
   "version": "3.10.9"
  }
 },
 "nbformat": 4,
 "nbformat_minor": 5
}
