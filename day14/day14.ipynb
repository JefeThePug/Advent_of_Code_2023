{
 "cells": [
  {
   "cell_type": "code",
   "execution_count": 97,
   "id": "6c31cb85-f5e7-46b3-99bc-2150d931517c",
   "metadata": {
    "tags": []
   },
   "outputs": [
    {
     "name": "stdout",
     "output_type": "stream",
     "text": [
      "6951\n"
     ]
    }
   ],
   "source": [
    "\"\"\"\n",
    "You use the hang glider to ride the hot air from Desert Island all the way up to the floating metal island. This \n",
    "\n",
    "\n",
    "\"\"\"\n",
    "\n",
    "    \n",
    "def get_something(s: str) -> None:\n",
    "    return\n",
    "    \n",
    "with open(\"input.txt\") as f:\n",
    "    print(get_something(f.read()))\n",
    "    \n",
    "# total is "
   ]
  },
  {
   "cell_type": "code",
   "execution_count": null,
   "id": "0ca76880-e34d-4776-b1ad-d46ccc48b5ca",
   "metadata": {},
   "outputs": [],
   "source": []
  },
  {
   "cell_type": "code",
   "execution_count": null,
   "id": "1f3e42dd-d486-4987-862f-78467c251064",
   "metadata": {},
   "outputs": [],
   "source": []
  }
 ],
 "metadata": {
  "kernelspec": {
   "display_name": "Python 3 (ipykernel)",
   "language": "python",
   "name": "python3"
  },
  "language_info": {
   "codemirror_mode": {
    "name": "ipython",
    "version": 3
   },
   "file_extension": ".py",
   "mimetype": "text/x-python",
   "name": "python",
   "nbconvert_exporter": "python",
   "pygments_lexer": "ipython3",
   "version": "3.10.9"
  }
 },
 "nbformat": 4,
 "nbformat_minor": 5
}
