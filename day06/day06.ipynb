{
 "cells": [
  {
   "cell_type": "code",
   "execution_count": 24,
   "id": "6c31cb85-f5e7-46b3-99bc-2150d931517c",
   "metadata": {
    "tags": []
   },
   "outputs": [
    {
     "name": "stdout",
     "output_type": "stream",
     "text": [
      "55386\n"
     ]
    }
   ],
   "source": [
    "\"\"\"\n",
    "You try to ask why they can't just use a weather machine (\"not powerful enough\") and where they're even sending\n",
    "\n",
    "\n",
    "\"\"\"\n",
    "\n",
    "def get_num(s: str) -> int:\n",
    "    return int(f\"{s[0]}{s[-1]}\") if s else 0\n",
    "\n",
    "def get_calibration_sum(s: str) -> int:\n",
    "    return sum(get_num(line.strip(letters)) for line in s.split(\"\\n\"))\n",
    "    \n",
    "with open(\"input.txt\") as f:\n",
    "    print(get_calibration_sum(f.read()))\n",
    "    \n",
    "#sum is 55386"
   ]
  },
  {
   "cell_type": "code",
   "execution_count": null,
   "id": "0ca76880-e34d-4776-b1ad-d46ccc48b5ca",
   "metadata": {},
   "outputs": [],
   "source": []
  },
  {
   "cell_type": "code",
   "execution_count": null,
   "id": "b0e9025a-cee1-4301-8ad8-daaaac17b4ad",
   "metadata": {
    "tags": []
   },
   "outputs": [],
   "source": []
  }
 ],
 "metadata": {
  "kernelspec": {
   "display_name": "Python 3 (ipykernel)",
   "language": "python",
   "name": "python3"
  },
  "language_info": {
   "codemirror_mode": {
    "name": "ipython",
    "version": 3
   },
   "file_extension": ".py",
   "mimetype": "text/x-python",
   "name": "python",
   "nbconvert_exporter": "python",
   "pygments_lexer": "ipython3",
   "version": "3.10.9"
  }
 },
 "nbformat": 4,
 "nbformat_minor": 5
}
