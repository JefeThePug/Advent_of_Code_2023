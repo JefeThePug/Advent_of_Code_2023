{
 "cells": [
  {
   "cell_type": "code",
   "execution_count": null,
   "id": "6c31cb85-f5e7-46b3-99bc-2150d931517c",
   "metadata": {
    "tags": []
   },
   "outputs": [],
   "source": [
    "\"\"\"\n",
    "you (\"the sky\") and why your map looks mostly blank (\"you sure ask a lot of questions\") and hang on did you just \n",
    "\n",
    "\n",
    "\"\"\"\n",
    "\n",
    "def get_something(s: str) -> int:\n",
    "    return\n",
    "    \n",
    "with open(\"input.txt\") as f:\n",
    "    print(get_something(f.read()))\n",
    "    \n",
    "#sum is "
   ]
  },
  {
   "cell_type": "code",
   "execution_count": null,
   "id": "ee6dc3ac-8f1a-40e7-8ffd-7bc3cc5f3723",
   "metadata": {},
   "outputs": [],
   "source": []
  },
  {
   "cell_type": "code",
   "execution_count": null,
   "id": "0ca76880-e34d-4776-b1ad-d46ccc48b5ca",
   "metadata": {},
   "outputs": [],
   "source": [
    "\"\"\"\n",
    "you (\"the sky\") and why your map looks mostly blank (\"you sure ask a lot of questions\") and hang on did you just \n",
    "\n",
    "\n",
    "\"\"\"\n",
    "\n",
    "def get_something(s: str) -> int:\n",
    "    return\n",
    "    \n",
    "with open(\"input.txt\") as f:\n",
    "    print(get_something(f.read()))\n",
    "    \n",
    "#sum is "
   ]
  },
  {
   "cell_type": "code",
   "execution_count": null,
   "id": "b0e9025a-cee1-4301-8ad8-daaaac17b4ad",
   "metadata": {
    "tags": []
   },
   "outputs": [],
   "source": []
  }
 ],
 "metadata": {
  "kernelspec": {
   "display_name": "Python 3 (ipykernel)",
   "language": "python",
   "name": "python3"
  },
  "language_info": {
   "codemirror_mode": {
    "name": "ipython",
    "version": 3
   },
   "file_extension": ".py",
   "mimetype": "text/x-python",
   "name": "python",
   "nbconvert_exporter": "python",
   "pygments_lexer": "ipython3",
   "version": "3.10.9"
  }
 },
 "nbformat": 4,
 "nbformat_minor": 5
}
